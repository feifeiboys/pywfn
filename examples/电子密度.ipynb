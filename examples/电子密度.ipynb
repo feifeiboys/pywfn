{
 "cells": [
  {
   "cell_type": "code",
   "execution_count": 1,
   "metadata": {},
   "outputs": [],
   "source": [
    "import sys\n",
    "\n",
    "sys.path.append(\"D:\\code\\pywfn\")\n",
    "\n",
    "from pywfn.data import sphGrid\n",
    "from pywfn.base import Mol\n",
    "from pywfn.reader import LogReader\n",
    "from pywfn.atomprop import atomCharge\n",
    "\n",
    "import matplotlib.pyplot as plt\n",
    "import pyvista as pv\n",
    "import numpy as np\n",
    "import time\n",
    "from sys import getsizeof"
   ]
  },
  {
   "cell_type": "code",
   "execution_count": 2,
   "metadata": {},
   "outputs": [
    {
     "data": {
      "text/plain": [
       "9"
      ]
     },
     "execution_count": 2,
     "metadata": {},
     "output_type": "execute_result"
    }
   ],
   "source": [
    "weight = sphGrid.gridData[:, -1]\n",
    "coords = sphGrid.gridData[:, :3]\n",
    "coords.setflags(write=False)\n",
    "\n",
    "path = \"D:\\BaiduSyncdisk\\Articles\\HFV\\gfile\\CH4\\CH4_STO3.out\"\n",
    "# path=\"D:\\BaiduSyncdisk\\gfile\\elements\\H2.out\"\n",
    "# path=\"D:\\BaiduSyncdisk\\gfile\\C=C\\CH2=CH2.out\"\n",
    "reader=LogReader(path)\n",
    "mol = Mol(reader)\n",
    "mol.bohr = True\n",
    "atms = mol.obtAtms\n",
    "shls = mol.obtShls\n",
    "syms = mol.obtSyms\n",
    "\n",
    "lmns = [mol.basis.sym2lmn(sym) for sym in syms]\n",
    "\n",
    "nmat = mol.CM.shape[0]\n",
    "npos=len(weight)\n",
    "nobt = len(mol.O_obts)\n",
    "obts = mol.O_obts\n",
    "nmat"
   ]
  },
  {
   "cell_type": "code",
   "execution_count": 3,
   "metadata": {},
   "outputs": [
    {
     "data": {
      "text/plain": [
       "170"
      ]
     },
     "execution_count": 3,
     "metadata": {},
     "output_type": "execute_result"
    }
   ],
   "source": [
    "from matplotlib import colormaps\n",
    "len(list(colormaps))"
   ]
  },
  {
   "cell_type": "markdown",
   "metadata": {},
   "source": [
    "## 定义函数"
   ]
  },
  {
   "cell_type": "code",
   "execution_count": 4,
   "metadata": {},
   "outputs": [],
   "source": [
    "def get_wfn(i:int,pos:np.ndarray):\n",
    "    \"\"\"\n",
    "    第i个原子轨道的波函数,pos为空间坐标\n",
    "    \"\"\"\n",
    "    lmn = lmns[i]\n",
    "    atm = atms[i]\n",
    "    shl = shls[i]\n",
    "    ang = sum(lmn)\n",
    "    atmic = mol.atom(atm).atomic\n",
    "    basis = mol.basis.get(atmic, shl, ang)\n",
    "    exps = [b.exp for b in basis]\n",
    "    coes = [b.coe for b in basis]\n",
    "    pos_ = pos-mol.atom(atm).coord # 空间坐标-原子坐标=以原子为中心的空间坐标\n",
    "    R2 = np.sum(pos_**2, axis=1)\n",
    "    wfn = mol.gto.cgf(exps, coes, lmn, R2, pos_)  # 空间坐标-以原子为中心的坐标\n",
    "    return wfn\n",
    "\n",
    "def mol_den(pos):\n",
    "    \"\"\"计算分子的电子密度\"\"\"\n",
    "    molDens=np.zeros(npos)\n",
    "    for u in range(nmat):\n",
    "        wfn_u=get_wfn(u,pos)\n",
    "        for v in range(nmat):\n",
    "            wfn_v=get_wfn(v,pos)\n",
    "            molDens+=wfn_u*wfn_v*mol.PM[u,v]\n",
    "    return molDens\n",
    "\n",
    "def get_smi(u, v, pos)->float:  # 重叠矩阵矩阵元\n",
    "    wfn_u = get_wfn(u,pos)\n",
    "    wfn_v = get_wfn(v,pos)\n",
    "    smi = np.sum(wfn_u * wfn_v * weight)\n",
    "    return smi\n",
    "\n",
    "def get_pmi(u, v, pos):  # 势能矩阵矩阵元\n",
    "    wfn_u = get_wfn(u,pos)\n",
    "    wfn_v = get_wfn(v,pos)\n",
    "    sr=np.zeros(npos)\n",
    "    for atom in mol.atoms:\n",
    "        r=np.linalg.norm(pos-atom.coord,axis=1)\n",
    "        sr+=atom.atomic/r\n",
    "    smi = np.sum(wfn_u * sr * wfn_v * weight)\n",
    "    return smi\n"
   ]
  },
  {
   "cell_type": "code",
   "execution_count": 5,
   "metadata": {},
   "outputs": [
    {
     "data": {
      "text/plain": [
       "[(0, 1, 'S'),\n",
       " (1, 1, 'S'),\n",
       " (2, 1, 'PX'),\n",
       " (3, 1, 'PY'),\n",
       " (4, 1, 'PZ'),\n",
       " (5, 2, 'S'),\n",
       " (6, 3, 'S'),\n",
       " (7, 4, 'S'),\n",
       " (8, 5, 'S')]"
      ]
     },
     "execution_count": 5,
     "metadata": {},
     "output_type": "execute_result"
    }
   ],
   "source": [
    "[(i,atms[i],s) for i,s in enumerate(syms)]"
   ]
  },
  {
   "cell_type": "code",
   "execution_count": 6,
   "metadata": {},
   "outputs": [
    {
     "data": {
      "text/plain": [
       "[0.9988429117397326,\n",
       " 1.0000023598440406,\n",
       " 1.0000050511542427,\n",
       " 1.0000050511542427,\n",
       " 1.0000050511542429,\n",
       " 1.0000402270316424,\n",
       " 1.0000402270316426,\n",
       " 1.0000402270316426,\n",
       " 1.0000402270316424]"
      ]
     },
     "execution_count": 6,
     "metadata": {},
     "output_type": "execute_result"
    }
   ],
   "source": [
    "diag=[get_smi(i,i,coords)for i in range(nmat)] # 对角线元素，对的\n",
    "diag"
   ]
  },
  {
   "cell_type": "code",
   "execution_count": 7,
   "metadata": {},
   "outputs": [
    {
     "name": "stdout",
     "output_type": "stream",
     "text": [
      "-----1.2PZ -----\n",
      "1.1S    0.0000,  0.0000\n",
      "1.2S    0.0000,  0.0000\n",
      "1.2PX   0.0000,  0.0000\n",
      "1.2PY   0.0000,  0.0000\n",
      "1.2PZ   1.0000,  1.0000\n",
      "2.1S    0.2738,  0.2737\n",
      "3.1S    0.2738,  0.2737\n",
      "4.1S   -0.2738, -0.2737\n",
      "5.1S   -0.2738, -0.2737\n"
     ]
    }
   ],
   "source": [
    "u=4\n",
    "print(f'-----{atms[u]:>1}.{shls[u]:1}{syms[u]:<3}-----')\n",
    "for i in range(nmat):\n",
    "    pu=mol.atom(atms[u]).coord\n",
    "    pi=mol.atom(atms[i]).coord\n",
    "    pos=coords+(pu+pi)/2\n",
    "    smi=get_smi(u,i,pos)\n",
    "    \n",
    "    print(f'{atms[i]:>1}.{shls[i]:1}{syms[i]:<3}{smi:>8.4f},{mol.SM[u,i]:>8.4f}')\n",
    "# 不同原子的非对角元素"
   ]
  },
  {
   "cell_type": "code",
   "execution_count": 8,
   "metadata": {},
   "outputs": [
    {
     "data": {
      "text/plain": [
       "(0.29964676, 0.29985247)"
      ]
     },
     "execution_count": 8,
     "metadata": {},
     "output_type": "execute_result"
    }
   ],
   "source": [
    "0.2737**2*4,0.4742**2+0.1581**2*3"
   ]
  },
  {
   "cell_type": "markdown",
   "metadata": {},
   "source": [
    "## 分子电子密度"
   ]
  },
  {
   "cell_type": "code",
   "execution_count": 9,
   "metadata": {},
   "outputs": [
    {
     "name": "stdout",
     "output_type": "stream",
     "text": [
      "1.9972642423672557\n",
      "1.9984340824298656\n",
      "2.0001216566317277\n",
      "2.0001216566317277\n",
      "2.000121656631728\n"
     ]
    },
    {
     "data": {
      "text/plain": [
       "9.996063294692306"
      ]
     },
     "execution_count": 9,
     "metadata": {},
     "output_type": "execute_result"
    }
   ],
   "source": [
    "# 全部展开求解\n",
    "molDens=np.zeros(npos)\n",
    "for o in obts:\n",
    "    obtDens=np.zeros(npos) # 每个分子轨道的密度\n",
    "    for u in range(nmat):\n",
    "        pos=coords+mol.atom(atms[u]).coord # v和u应该使用相同的空间坐标啊\n",
    "        # pos=coords\n",
    "        wfn_u=get_wfn(u,pos)\n",
    "        for v in range(nmat):\n",
    "            wfn_v=get_wfn(v,pos)\n",
    "            obtDens+=wfn_u*wfn_v*mol.CM[u,o]*mol.CM[v,o]*2\n",
    "    print(np.sum(obtDens*weight))\n",
    "    molDens+=obtDens\n",
    "np.sum(molDens*weight)"
   ]
  },
  {
   "cell_type": "code",
   "execution_count": 10,
   "metadata": {},
   "outputs": [
    {
     "data": {
      "text/plain": [
       "9.996063294692306"
      ]
     },
     "execution_count": 10,
     "metadata": {},
     "output_type": "execute_result"
    }
   ],
   "source": [
    "# 直接使用密度矩阵计算分子电子密度，无法计算整个分子的波函数，因为对于不同原子，所采取的格点位置不同，虽然数量一致，但不能直接相加？\n",
    "molDens=np.zeros(npos)\n",
    "basDensl=[]\n",
    "for u in range(nmat):\n",
    "    pos=coords+mol.atom(atms[u]).coord # u处原子坐标\n",
    "    basDens=np.zeros(npos)\n",
    "    wfn_u=get_wfn(u,pos)\n",
    "    for v in range(nmat):\n",
    "        wfn_v=get_wfn(v,pos)\n",
    "        basDens+=wfn_u*wfn_v*mol.PM[u,v]\n",
    "    basDensl.append(np.sum(basDens*weight))\n",
    "    molDens+=basDens\n",
    "np.sum(molDens*weight)"
   ]
  },
  {
   "cell_type": "code",
   "execution_count": 11,
   "metadata": {},
   "outputs": [
    {
     "name": "stdout",
     "output_type": "stream",
     "text": [
      "6.339112038825842\n",
      "0.9142378139666157\n",
      "0.9142378139666159\n",
      "0.9142378139666156\n",
      "0.9142378139666157\n"
     ]
    }
   ],
   "source": [
    "# 每个原子的电子数量\n",
    "for atom in mol.atoms:\n",
    "    u,l=atom.obtBorder\n",
    "    print(sum(basDensl[u:l]))"
   ]
  },
  {
   "cell_type": "code",
   "execution_count": 12,
   "metadata": {},
   "outputs": [
    {
     "name": "stdout",
     "output_type": "stream",
     "text": [
      "1.997726982866233\n",
      "2.0004281017516528\n",
      "2.0001424906308642\n",
      "2.0001424906308647\n",
      "2.0001424906308647\n",
      "9.998582556510478\n"
     ]
    }
   ],
   "source": [
    "# 先计算出分子轨道波函数，然后求分子轨道密度\n",
    "molDens=np.zeros(npos)\n",
    "for o in obts:\n",
    "    wfn=np.zeros(npos) # 分子轨道的波函数\n",
    "    for u in range(nmat): # 每一个原子轨道\n",
    "        pos=mol.atom(atms[u]).coord+coords # 每个原子的中心坐标都不一致\n",
    "        wfn+=mol.CM[u,o]*get_wfn(u,coords) # 这里的坐标应该使用哪一个？，为什么使用pos不对？整个分子的电子密度，以分子为中心\n",
    "    obtDens=wfn**2*weight*2 # 分子轨道的电子密度\n",
    "    molDens+=obtDens\n",
    "    print(np.sum(obtDens))\n",
    "print(np.sum(molDens))"
   ]
  },
  {
   "cell_type": "code",
   "execution_count": 13,
   "metadata": {},
   "outputs": [
    {
     "data": {
      "image/png": "[encoded data removed]",
      "text/plain": [
       "<Figure size 640x480 with 2 Axes>"
      ]
     },
     "metadata": {},
     "output_type": "display_data"
    }
   ],
   "source": [
    "# 数值重叠积分与log重叠积分对比\n",
    "fig,axs=plt.subplots(1,2)\n",
    "SM=np.zeros(shape=(nmat,nmat))\n",
    "for u in range(nmat):\n",
    "    pu=mol.atom(atms[u]).coord\n",
    "    for v in range(nmat):\n",
    "        pv=mol.atom(atms[v]).coord\n",
    "        pos=coords+(pu+pv)/2\n",
    "        smi=get_smi(u,v,pos)\n",
    "        SM[u,v]=smi\n",
    "axs[0].imshow(SM) # 数值方法算出的重叠积分\n",
    "axs[1].imshow(mol.SM) # log文件中读出的重叠积分\n",
    "plt.show()"
   ]
  },
  {
   "cell_type": "code",
   "execution_count": 14,
   "metadata": {},
   "outputs": [
    {
     "name": "stdout",
     "output_type": "stream",
     "text": [
      "0 5\n"
     ]
    },
    {
     "data": {
      "text/plain": [
       "((5, 5), [[0, 0, 0], [0, 0, 0], [1, 0, 0], [0, 1, 0], [0, 0, 1]])"
      ]
     },
     "execution_count": 14,
     "metadata": {},
     "output_type": "execute_result"
    }
   ],
   "source": [
    "from pywfn.data import Basis\n",
    "from pywfn.maths import Gto\n",
    "\n",
    "def ago(pos,atm,obts):\n",
    "    R2 = np.sum(pos**2, axis=1)  # x^2+y^2+z^2\n",
    "\n",
    "    atom = mol.atom(atm)\n",
    "    u, l = atom.obtBorder\n",
    "    print(u,l)\n",
    "    atms = mol.obtAtms[u:l]\n",
    "    shls = mol.obtShls[u:l]\n",
    "    syms = mol.obtSyms[u:l]\n",
    "    lmns = [Basis.sym2lmn(sym) for sym in syms]\n",
    "    coef = mol.CM[u:l, obts]  # 二维矩阵\n",
    "    expl = []\n",
    "    coel = []\n",
    "    ncsl = []  # 记录每个收缩轨道的大小\n",
    "    for i in range(len(atms)):  # 该原子的行索引\n",
    "        lmn = lmns[i]\n",
    "        atm = atms[i]\n",
    "        shl = shls[i]\n",
    "        ang = sum(lmn)\n",
    "        basis = mol.basis.get(atom.atomic, shl, ang)\n",
    "        exps = [b.exp for b in basis]\n",
    "        coes = [b.coe for b in basis]\n",
    "        expl += exps\n",
    "        coel += coes\n",
    "        ncsl.append(len(exps))\n",
    "    return coef,lmns,ncsl,expl,coel,R2\n",
    "atom=mol.atom(1)\n",
    "coef,lmns,ncsl,expl,coel,R2=ago(coords-atom.coord,1,mol.O_obts)\n",
    "coef.shape,lmns"
   ]
  },
  {
   "cell_type": "code",
   "execution_count": 15,
   "metadata": {},
   "outputs": [
    {
     "name": "stdout",
     "output_type": "stream",
     "text": [
      "0\n",
      "1\n",
      "2\n",
      "3\n",
      "4\n"
     ]
    }
   ],
   "source": [
    "j = 0\n",
    "wfns = np.zeros(len(pos), dtype=np.float32)\n",
    "for i in range(len(lmns)):\n",
    "    print(i)\n",
    "    nc = ncsl[i]  # 收缩大小\n",
    "    lmn = lmns[i]\n",
    "    coes = coel[j : j + nc]\n",
    "    exps = expl[j : j + nc]\n",
    "    j += nc\n",
    "    wfn = Gto.cgf(exps, coes, lmn, R2, pos) # 每一个原子轨道都是提前定义好的不变的\n",
    "    for obt in obts:\n",
    "        wfns += coef[i, obt] * wfn"
   ]
  },
  {
   "cell_type": "code",
   "execution_count": 22,
   "metadata": {},
   "outputs": [
    {
     "data": {
      "text/plain": [
       "9.998582556510478"
      ]
     },
     "execution_count": 22,
     "metadata": {},
     "output_type": "execute_result"
    }
   ],
   "source": [
    "from pywfn.spaceProp import wfn\n",
    "path = \"D:\\BaiduSyncdisk\\Articles\\HFV\\gfile\\CH4\\CH4_STO3.out\"\n",
    "# path=\"D:\\BaiduSyncdisk\\gfile\\elements\\H2.out\"\n",
    "# path=\"D:\\BaiduSyncdisk\\gfile\\C=C\\CH2=CH2.out\"\n",
    "reader=LogReader(path)\n",
    "mol = Mol(reader)\n",
    "caler=wfn.Calculator(mol)\n",
    "dens=caler.molDens(coords)\n",
    "np.sum(dens*weight)"
   ]
  },
  {
   "cell_type": "code",
   "execution_count": 23,
   "metadata": {},
   "outputs": [
    {
     "data": {
      "text/plain": [
       "9.99858255651048"
      ]
     },
     "execution_count": 23,
     "metadata": {},
     "output_type": "execute_result"
    }
   ],
   "source": [
    "caler=wfn.Calculator(mol)\n",
    "dens=caler.molDens2(coords)\n",
    "np.sum(dens*weight)"
   ]
  },
  {
   "cell_type": "code",
   "execution_count": 24,
   "metadata": {},
   "outputs": [
    {
     "name": "stdout",
     "output_type": "stream",
     "text": [
      "6.339112038825842\n",
      "0.9148676294211592\n",
      "0.9148676294211591\n",
      "0.9148676294211592\n",
      "0.9148676294211592\n"
     ]
    }
   ],
   "source": [
    "for atom in mol.atoms:\n",
    "    dens=caler.atmDens(atom.idx,coords+mol.atom(1).coord)\n",
    "    elec=np.sum(dens*weight)\n",
    "    print(elec)"
   ]
  },
  {
   "cell_type": "code",
   "execution_count": 25,
   "metadata": {},
   "outputs": [
    {
     "name": "stdout",
     "output_type": "stream",
     "text": [
      "6.339112038825857\n",
      "0.9148676294211612\n",
      "0.9148676294211652\n",
      "0.9148676294211663\n",
      "0.914867629421161\n",
      "----------------------------------------\n",
      "8.242923871288369\n",
      "0.9142378139666211\n",
      "0.9099050889279944\n",
      "0.9099050889279936\n",
      "0.9099050889279944\n",
      "----------------------------------------\n",
      "8.242923871288369\n",
      "0.9099050889279946\n",
      "0.9142378139666149\n",
      "0.909905088927995\n",
      "0.9099050889279954\n",
      "----------------------------------------\n",
      "8.242923871288374\n",
      "0.9099050889279942\n",
      "0.9099050889279964\n",
      "0.9142378139666141\n",
      "0.9099050889279946\n",
      "----------------------------------------\n",
      "8.242923871288363\n",
      "0.9099050889279918\n",
      "0.909905088927994\n",
      "0.9099050889279937\n",
      "0.9142378139666179\n",
      "----------------------------------------\n"
     ]
    }
   ],
   "source": [
    "for a1,atom1 in enumerate(mol.atoms):\n",
    "    pos=coords+atom1.coord #将空间坐标移动到第i原子\n",
    "    for a2,atom2 in enumerate(mol.atoms):\n",
    "        dens=caler.atmDens(atom2.idx,pos)\n",
    "        print(sum(dens*weight))\n",
    "    print('-'*40)"
   ]
  },
  {
   "cell_type": "code",
   "execution_count": 20,
   "metadata": {},
   "outputs": [
    {
     "name": "stdout",
     "output_type": "stream",
     "text": [
      "1.0009,1.0001\n",
      "1.0008,1.0001\n",
      "q= -0.015863288547113386\n",
      "atmQ=1.0009,proQ=2.0017,molQ=2.0002\n",
      "1.0008,1.0001\n",
      "1.0009,1.0001\n",
      "q= -0.015863288547113386\n",
      "atmQ=1.0009,proQ=2.0017,molQ=2.0002\n"
     ]
    },
    {
     "data": {
      "text/plain": [
       "[-6.374358183247608e-05, -6.374358183247608e-05]"
      ]
     },
     "execution_count": 20,
     "metadata": {},
     "output_type": "execute_result"
    }
   ],
   "source": [
    "from pywfn.atomprop import atomCharge\n",
    "caler=atomCharge.Calculator(mol)\n",
    "caler.hirshfeld()"
   ]
  },
  {
   "cell_type": "code",
   "execution_count": 45,
   "metadata": {},
   "outputs": [
    {
     "data": {
      "text/plain": [
       "array([6.83, 0.79, 0.79, 0.79, 0.79])"
      ]
     },
     "execution_count": 45,
     "metadata": {},
     "output_type": "execute_result"
    }
   ],
   "source": [
    "pos=[]\n",
    "wei=[]\n",
    "for atom in mol.atoms:\n",
    "    pos.append(coords+atom.coord)\n",
    "    wei.append(weight)\n",
    "pos=np.vstack(pos)\n",
    "wei=np.hstack(wei)/len(mol.atoms)\n",
    "wfnCaler=wfn.Calculator(mol)\n",
    "chars=[]\n",
    "for _,atom in enumerate(mol.atoms):\n",
    "    dens=wfnCaler.atmDens(atom.idx,pos)\n",
    "    char=sum(dens*wei)\n",
    "    chars.append(char)\n",
    "chars=np.array(chars)\n",
    "k=sum(mol.atoms.atomics)/sum(chars)\n",
    "chars*=k\n",
    "chars"
   ]
  },
  {
   "cell_type": "code",
   "execution_count": 46,
   "metadata": {},
   "outputs": [
    {
     "data": {
      "text/plain": [
       "10.0"
      ]
     },
     "execution_count": 46,
     "metadata": {},
     "output_type": "execute_result"
    }
   ],
   "source": [
    "sum(chars)"
   ]
  }
 ],
 "metadata": {
  "kernelspec": {
   "display_name": "py10",
   "language": "python",
   "name": "python3"
  },
  "language_info": {
   "codemirror_mode": {
    "name": "ipython",
    "version": 3
   },
   "file_extension": ".py",
   "mimetype": "text/x-python",
   "name": "python",
   "nbconvert_exporter": "python",
   "pygments_lexer": "ipython3",
   "version": "3.10.13"
  }
 },
 "nbformat": 4,
 "nbformat_minor": 2
}
